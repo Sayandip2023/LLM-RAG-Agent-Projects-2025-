{
  "nbformat": 4,
  "nbformat_minor": 0,
  "metadata": {
    "colab": {
      "provenance": []
    },
    "kernelspec": {
      "name": "python3",
      "display_name": "Python 3"
    },
    "language_info": {
      "name": "python"
    }
  },
  "cells": [
    {
      "cell_type": "markdown",
      "source": [
        "## Installing and importing the necessary libraries"
      ],
      "metadata": {
        "id": "AWVUHd9x_Sc9"
      }
    },
    {
      "cell_type": "code",
      "source": [
        "!pip install streamlit pyngrok google-generativeai\n",
        "\n",
        "from pyngrok import ngrok\n",
        "import os\n",
        "import threading\n",
        "import time\n",
        "import webbrowser"
      ],
      "metadata": {
        "id": "ifOQORdH_eel"
      },
      "execution_count": null,
      "outputs": []
    },
    {
      "cell_type": "markdown",
      "source": [
        "## Setting API"
      ],
      "metadata": {
        "id": "93zi4uZZ_jPj"
      }
    },
    {
      "cell_type": "code",
      "source": [
        "# Set your ngrok token\n",
        "#ngrok.set_auth_token(\"\")  # ← Replace with your token\n",
        "\n",
        "# Set Gemini API Key\n",
        "#os.environ[\"GEMINI_API_KEY\"] = \"\"  # ← Replace with your key"
      ],
      "metadata": {
        "id": "VuUCUc-RAH-E"
      },
      "execution_count": null,
      "outputs": []
    },
    {
      "cell_type": "markdown",
      "source": [
        "## App Code"
      ],
      "metadata": {
        "id": "RRa11vChAK56"
      }
    },
    {
      "cell_type": "code",
      "source": [
        "app_code = '''\n",
        "import streamlit as st\n",
        "import os\n",
        "from google import genai\n",
        "from google.genai import types\n",
        "\n",
        "# Initialize Gemini client\n",
        "client = genai.Client(api_key=os.environ.get(\"GEMINI_API_KEY\"))\n",
        "\n",
        "def main():\n",
        "    st.set_page_config(page_title=\"Gemini QA App\", layout=\"wide\")\n",
        "    st.title(\"📄 Document Q&A with Gemini + Web Search\")\n",
        "\n",
        "    uploaded_file = st.file_uploader(\"Upload your document (.txt, .pdf, .docx):\", type=[\"txt\", \"pdf\", \"docx\"])\n",
        "    question = st.text_input(\"Ask a question about the document\")\n",
        "\n",
        "    if st.button(\"Submit\") and uploaded_file and question:\n",
        "        with st.spinner(\"Uploading document and generating response...\"):\n",
        "            temp_path = os.path.join(\"temp\", uploaded_file.name)\n",
        "            os.makedirs(\"temp\", exist_ok=True)\n",
        "            with open(temp_path, \"wb\") as f:\n",
        "                f.write(uploaded_file.getbuffer())\n",
        "\n",
        "            uploaded_gemini_file = client.files.upload(file=temp_path)\n",
        "\n",
        "            contents = [\n",
        "                types.Content(\n",
        "                    role=\"user\",\n",
        "                    parts=[\n",
        "                        types.Part.from_uri(\n",
        "                            file_uri=uploaded_gemini_file.uri,\n",
        "                            mime_type=uploaded_gemini_file.mime_type,\n",
        "                        ),\n",
        "                        types.Part.from_text(text=question),\n",
        "                        types.Part.from_text(\n",
        "                            text=\"Please search the web for additional information or context. Always Provide the links of web pages that you visited to give you response.\"\n",
        "                        ),\n",
        "                    ],\n",
        "                )\n",
        "            ]\n",
        "\n",
        "            tools = [types.Tool(google_search=types.GoogleSearch())]\n",
        "            generate_config = types.GenerateContentConfig(\n",
        "                tools=tools,\n",
        "                response_mime_type=\"text/plain\",\n",
        "            )\n",
        "\n",
        "            response_text = \"\"\n",
        "            for chunk in client.models.generate_content_stream(\n",
        "                model=\"gemini-2.0-flash\",\n",
        "                contents=contents,\n",
        "                config=generate_config,\n",
        "            ):\n",
        "                response_text += chunk.text\n",
        "\n",
        "            st.subheader(\"💡 Answer\")\n",
        "            st.markdown(response_text)\n",
        "\n",
        "            os.remove(temp_path)\n",
        "\n",
        "if __name__ == \"__main__\":\n",
        "    main()\n",
        "'''"
      ],
      "metadata": {
        "id": "zBUg7cNeAXHZ"
      },
      "execution_count": null,
      "outputs": []
    },
    {
      "cell_type": "markdown",
      "source": [
        "## Running the app"
      ],
      "metadata": {
        "id": "_4Qi72JiAcwZ"
      }
    },
    {
      "cell_type": "code",
      "execution_count": null,
      "metadata": {
        "id": "EX_fCHWj_IJ9"
      },
      "outputs": [],
      "source": [
        "# Save the app code to a Python file\n",
        "with open(\"streamlit_app.py\", \"w\") as f:\n",
        "    f.write(app_code)\n",
        "\n",
        "def run_app():\n",
        "    os.system(\"streamlit run streamlit_app.py\")\n",
        "\n",
        "# Start Streamlit in a new thread\n",
        "threading.Thread(target=run_app).start()\n",
        "\n",
        "# Wait for Streamlit to boot\n",
        "time.sleep(5)\n",
        "\n",
        "# Expose the app via ngrok\n",
        "public_url = ngrok.connect(8501)\n",
        "print(\"🔗 Your Streamlit app is live at:\", public_url)\n",
        "webbrowser.open(public_url)"
      ]
    }
  ]
}